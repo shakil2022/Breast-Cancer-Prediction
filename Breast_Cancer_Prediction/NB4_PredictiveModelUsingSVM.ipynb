{
 "cells": [
  {
   "cell_type": "markdown",
   "id": "b802e545",
   "metadata": {},
   "source": [
    "# Notebook 4: PredictiveModelUsingSVM"
   ]
  },
  {
   "cell_type": "code",
   "execution_count": 19,
   "id": "10cce998",
   "metadata": {},
   "outputs": [],
   "source": [
    "%matplotlib inline\n",
    "import matplotlib.pyplot as plt\n",
    "import pandas as pd \n",
    "import numpy as np\n",
    "from scipy.stats import norm\n",
    "\n",
    "## Supervised learning.\n",
    "from sklearn.preprocessing import StandardScaler\n",
    "from sklearn.preprocessing import LabelEncoder\n",
    "from sklearn.model_selection import train_test_split\n",
    "from sklearn.svm import SVC\n",
    "from sklearn.metrics import confusion_matrix\n",
    "from sklearn import metrics, preprocessing\n",
    "from sklearn.metrics import classification_report\n",
    "import seaborn as sns "
   ]
  },
  {
   "cell_type": "code",
   "execution_count": 20,
   "id": "8846a2f3",
   "metadata": {},
   "outputs": [],
   "source": [
    "data = pd.read_csv('data/clean-data.csv', index_col=False)\n",
    "data.drop('Unnamed: 0',axis=1, inplace=True)\n",
    "array = data.values\n",
    "X = array[:,1:31] # features\n",
    "y = array[:,0]\n",
    "le = LabelEncoder()\n",
    "y = le.fit_transform(y)\n",
    "scaler =StandardScaler()\n",
    "Xs = scaler.fit_transform(X)"
   ]
  },
  {
   "cell_type": "markdown",
   "id": "8f1c73b7",
   "metadata": {},
   "source": [
    "# Building a Support Vector Machine model\n"
   ]
  },
  {
   "cell_type": "code",
   "execution_count": 21,
   "id": "f212523e",
   "metadata": {},
   "outputs": [
    {
     "name": "stdout",
     "output_type": "stream",
     "text": [
      "\n",
      "The classifier accuracy score is 0.97\n",
      "\n"
     ]
    }
   ],
   "source": [
    "X_train, X_test, y_train, y_test = train_test_split(Xs, y, test_size=0.4, random_state=101)\n",
    "svm = SVC(probability=True)\n",
    "svm.fit(X_train, y_train)\n",
    "classifier_score = svm.score(X_test, y_test)\n",
    "print ('\\nThe classifier accuracy score is {:03.2f}\\n'.format(classifier_score))"
   ]
  },
  {
   "cell_type": "code",
   "execution_count": 22,
   "id": "5bb3e94b",
   "metadata": {},
   "outputs": [],
   "source": [
    "predictions=svm.predict(X_test)"
   ]
  },
  {
   "cell_type": "markdown",
   "id": "b8a48ae1",
   "metadata": {},
   "source": [
    "***Model Accuracy: Receiver Operating Characteristic (ROC) curve***"
   ]
  },
  {
   "cell_type": "code",
   "execution_count": 23,
   "id": "d8bbf196",
   "metadata": {},
   "outputs": [],
   "source": [
    "# The confusion matrix helps visualize the performance of the algorithm.\n",
    "y_pred = svm.fit(X_train, y_train).predict(X_test)\n",
    "cm = metrics.confusion_matrix(y_test, y_pred)"
   ]
  },
  {
   "cell_type": "markdown",
   "id": "e7e25343",
   "metadata": {},
   "source": [
    "# Evaluation"
   ]
  },
  {
   "cell_type": "code",
   "execution_count": 24,
   "id": "e4421538",
   "metadata": {},
   "outputs": [
    {
     "data": {
      "image/png": "[encoded data removed]",
      "text/plain": [
       "<Figure size 640x480 with 2 Axes>"
      ]
     },
     "metadata": {},
     "output_type": "display_data"
    }
   ],
   "source": [
    "from sklearn.metrics import confusion_matrix \n",
    "conf_matrix = confusion_matrix(y_test, predictions) \n",
    "# Example confusion matrix \n",
    "group_names = ['True Pos','False Pos','False Neg','True Neg'] \n",
    "group_counts = [\"{0:0.0f}\".format(value) for value in conf_matrix.flatten()] \n",
    "group_percentages = [\"{0:.2%}\".format(value) for value in conf_matrix.flatten()] \n",
    "labels = [f\"{v1}\\n{v2}\\n{v3}\" for v1, v2, v3 in \n",
    " zip(group_names, group_counts, group_percentages)] \n",
    "labels = np.asarray(labels).reshape(2, 2) \n",
    "sns.heatmap(conf_matrix, annot=labels, fmt='', cmap='summer') \n",
    "plt.show()"
   ]
  },
  {
   "cell_type": "code",
   "execution_count": 25,
   "id": "f7627ed5",
   "metadata": {},
   "outputs": [
    {
     "name": "stdout",
     "output_type": "stream",
     "text": [
      "              precision    recall  f1-score   support\n",
      "\n",
      "           0       0.96      0.99      0.98       145\n",
      "           1       0.99      0.93      0.96        83\n",
      "\n",
      "    accuracy                           0.97       228\n",
      "   macro avg       0.97      0.96      0.97       228\n",
      "weighted avg       0.97      0.97      0.97       228\n",
      "\n"
     ]
    }
   ],
   "source": [
    "print(classification_report(y_test,predictions))"
   ]
  },
  {
   "cell_type": "markdown",
   "id": "6f07e279",
   "metadata": {},
   "source": [
    "#  Gridsearch"
   ]
  },
  {
   "cell_type": "markdown",
   "id": "62c00fbe",
   "metadata": {},
   "source": [
    "Finding the right parameters (like what C or gamma values to use) is a tricky task! But luckily,\n",
    "we can be a little lazy and just try a bunch of combinations and see what works best! This idea\n",
    "of creating a ‘grid’ of parameters and just trying out all the possible combinations is called a\n",
    "Gridsearch, this method is common enough that Scikit-learn has this functionality built in with\n",
    "GridSearchCV! The CV stands for cross-validation which is the\n",
    "GridSearchCV takes a dictionary that describes the parameters that should be tried and a model\n",
    "to train. The grid of parameters is defined as a dictionary, where the keys are the parameters and\n",
    "the values are the settings to be tested"
   ]
  },
  {
   "cell_type": "code",
   "execution_count": 26,
   "id": "962480a4",
   "metadata": {},
   "outputs": [],
   "source": [
    "from sklearn.model_selection import GridSearchCV"
   ]
  },
  {
   "cell_type": "code",
   "execution_count": 27,
   "id": "3780429f",
   "metadata": {},
   "outputs": [],
   "source": [
    "param_grid = {'C': [0.1,1,5, 10, 50, 100, 1000], 'gamma': [10,1,0.1,0.01,0.001,0.0001], 'kernel': ['rbf','linear']}"
   ]
  },
  {
   "cell_type": "code",
   "execution_count": 28,
   "id": "6579068c",
   "metadata": {},
   "outputs": [],
   "source": [
    "grid = GridSearchCV(SVC(),param_grid,refit=True,verbose=5)"
   ]
  },
  {
   "cell_type": "code",
   "execution_count": 29,
   "id": "03e11e92",
   "metadata": {},
   "outputs": [
    {
     "name": "stdout",
     "output_type": "stream",
     "text": [
      "Fitting 5 folds for each of 84 candidates, totalling 420 fits\n",
      "[CV 1/5] END .......C=0.1, gamma=10, kernel=rbf;, score=0.623 total time=   0.0s\n",
      "[CV 2/5] END .......C=0.1, gamma=10, kernel=rbf;, score=0.632 total time=   0.0s\n",
      "[CV 3/5] END .......C=0.1, gamma=10, kernel=rbf;, score=0.618 total time=   0.0s\n",
      "[CV 4/5] END .......C=0.1, gamma=10, kernel=rbf;, score=0.618 total time=   0.0s\n",
      "[CV 5/5] END .......C=0.1, gamma=10, kernel=rbf;, score=0.618 total time=   0.0s\n",
      "[CV 1/5] END ....C=0.1, gamma=10, kernel=linear;, score=0.971 total time=   0.0s\n",
      "[CV 2/5] END ....C=0.1, gamma=10, kernel=linear;, score=0.985 total time=   0.0s\n",
      "[CV 3/5] END ....C=0.1, gamma=10, kernel=linear;, score=1.000 total time=   0.0s\n",
      "[CV 4/5] END ....C=0.1, gamma=10, kernel=linear;, score=0.985 total time=   0.0s\n",
      "[CV 5/5] END ....C=0.1, gamma=10, kernel=linear;, score=0.985 total time=   0.0s\n",
      "[CV 1/5] END ........C=0.1, gamma=1, kernel=rbf;, score=0.623 total time=   0.0s\n",
      "[CV 2/5] END ........C=0.1, gamma=1, kernel=rbf;, score=0.632 total time=   0.0s\n",
      "[CV 3/5] END ........C=0.1, gamma=1, kernel=rbf;, score=0.618 total time=   0.0s\n",
      "[CV 4/5] END ........C=0.1, gamma=1, kernel=rbf;, score=0.618 total time=   0.0s\n",
      "[CV 5/5] END ........C=0.1, gamma=1, kernel=rbf;, score=0.618 total time=   0.0s\n",
      "[CV 1/5] END .....C=0.1, gamma=1, kernel=linear;, score=0.971 total time=   0.0s\n",
      "[CV 2/5] END .....C=0.1, gamma=1, kernel=linear;, score=0.985 total time=   0.0s\n",
      "[CV 3/5] END .....C=0.1, gamma=1, kernel=linear;, score=1.000 total time=   0.0s\n",
      "[CV 4/5] END .....C=0.1, gamma=1, kernel=linear;, score=0.985 total time=   0.0s\n",
      "[CV 5/5] END .....C=0.1, gamma=1, kernel=linear;, score=0.985 total time=   0.0s\n",
      "[CV 1/5] END ......C=0.1, gamma=0.1, kernel=rbf;, score=0.913 total time=   0.0s\n",
      "[CV 2/5] END ......C=0.1, gamma=0.1, kernel=rbf;, score=0.926 total time=   0.0s\n",
      "[CV 3/5] END ......C=0.1, gamma=0.1, kernel=rbf;, score=0.956 total time=   0.0s\n",
      "[CV 4/5] END ......C=0.1, gamma=0.1, kernel=rbf;, score=0.956 total time=   0.0s\n",
      "[CV 5/5] END ......C=0.1, gamma=0.1, kernel=rbf;, score=0.941 total time=   0.0s\n",
      "[CV 1/5] END ...C=0.1, gamma=0.1, kernel=linear;, score=0.971 total time=   0.0s\n",
      "[CV 2/5] END ...C=0.1, gamma=0.1, kernel=linear;, score=0.985 total time=   0.0s\n",
      "[CV 3/5] END ...C=0.1, gamma=0.1, kernel=linear;, score=1.000 total time=   0.0s\n",
      "[CV 4/5] END ...C=0.1, gamma=0.1, kernel=linear;, score=0.985 total time=   0.0s\n",
      "[CV 5/5] END ...C=0.1, gamma=0.1, kernel=linear;, score=0.985 total time=   0.0s\n",
      "[CV 1/5] END .....C=0.1, gamma=0.01, kernel=rbf;, score=0.899 total time=   0.0s\n",
      "[CV 2/5] END .....C=0.1, gamma=0.01, kernel=rbf;, score=0.971 total time=   0.0s\n",
      "[CV 3/5] END .....C=0.1, gamma=0.01, kernel=rbf;, score=0.971 total time=   0.0s\n",
      "[CV 4/5] END .....C=0.1, gamma=0.01, kernel=rbf;, score=0.971 total time=   0.0s\n",
      "[CV 5/5] END .....C=0.1, gamma=0.01, kernel=rbf;, score=0.956 total time=   0.0s\n",
      "[CV 1/5] END ..C=0.1, gamma=0.01, kernel=linear;, score=0.971 total time=   0.0s\n",
      "[CV 2/5] END ..C=0.1, gamma=0.01, kernel=linear;, score=0.985 total time=   0.0s\n",
      "[CV 3/5] END ..C=0.1, gamma=0.01, kernel=linear;, score=1.000 total time=   0.0s\n",
      "[CV 4/5] END ..C=0.1, gamma=0.01, kernel=linear;, score=0.985 total time=   0.0s\n",
      "[CV 5/5] END ..C=0.1, gamma=0.01, kernel=linear;, score=0.985 total time=   0.0s\n",
      "[CV 1/5] END ....C=0.1, gamma=0.001, kernel=rbf;, score=0.681 total time=   0.0s\n",
      "[CV 2/5] END ....C=0.1, gamma=0.001, kernel=rbf;, score=0.676 total time=   0.0s\n",
      "[CV 3/5] END ....C=0.1, gamma=0.001, kernel=rbf;, score=0.662 total time=   0.0s\n",
      "[CV 4/5] END ....C=0.1, gamma=0.001, kernel=rbf;, score=0.691 total time=   0.0s\n",
      "[CV 5/5] END ....C=0.1, gamma=0.001, kernel=rbf;, score=0.676 total time=   0.0s\n",
      "[CV 1/5] END .C=0.1, gamma=0.001, kernel=linear;, score=0.971 total time=   0.0s\n",
      "[CV 2/5] END .C=0.1, gamma=0.001, kernel=linear;, score=0.985 total time=   0.0s\n",
      "[CV 3/5] END .C=0.1, gamma=0.001, kernel=linear;, score=1.000 total time=   0.0s\n",
      "[CV 4/5] END .C=0.1, gamma=0.001, kernel=linear;, score=0.985 total time=   0.0s\n",
      "[CV 5/5] END .C=0.1, gamma=0.001, kernel=linear;, score=0.985 total time=   0.0s\n",
      "[CV 1/5] END ...C=0.1, gamma=0.0001, kernel=rbf;, score=0.623 total time=   0.0s\n",
      "[CV 2/5] END ...C=0.1, gamma=0.0001, kernel=rbf;, score=0.632 total time=   0.0s\n",
      "[CV 3/5] END ...C=0.1, gamma=0.0001, kernel=rbf;, score=0.618 total time=   0.0s\n",
      "[CV 4/5] END ...C=0.1, gamma=0.0001, kernel=rbf;, score=0.618 total time=   0.0s\n",
      "[CV 5/5] END ...C=0.1, gamma=0.0001, kernel=rbf;, score=0.618 total time=   0.0s\n",
      "[CV 1/5] END C=0.1, gamma=0.0001, kernel=linear;, score=0.971 total time=   0.0s\n",
      "[CV 2/5] END C=0.1, gamma=0.0001, kernel=linear;, score=0.985 total time=   0.0s\n",
      "[CV 3/5] END C=0.1, gamma=0.0001, kernel=linear;, score=1.000 total time=   0.0s\n",
      "[CV 4/5] END C=0.1, gamma=0.0001, kernel=linear;, score=0.985 total time=   0.0s\n",
      "[CV 5/5] END C=0.1, gamma=0.0001, kernel=linear;, score=0.985 total time=   0.0s\n",
      "[CV 1/5] END .........C=1, gamma=10, kernel=rbf;, score=0.623 total time=   0.0s\n",
      "[CV 2/5] END .........C=1, gamma=10, kernel=rbf;, score=0.632 total time=   0.0s\n",
      "[CV 3/5] END .........C=1, gamma=10, kernel=rbf;, score=0.618 total time=   0.0s\n",
      "[CV 4/5] END .........C=1, gamma=10, kernel=rbf;, score=0.618 total time=   0.0s\n",
      "[CV 5/5] END .........C=1, gamma=10, kernel=rbf;, score=0.618 total time=   0.0s\n",
      "[CV 1/5] END ......C=1, gamma=10, kernel=linear;, score=0.957 total time=   0.0s\n",
      "[CV 2/5] END ......C=1, gamma=10, kernel=linear;, score=0.985 total time=   0.0s\n",
      "[CV 3/5] END ......C=1, gamma=10, kernel=linear;, score=0.971 total time=   0.0s\n",
      "[CV 4/5] END ......C=1, gamma=10, kernel=linear;, score=0.971 total time=   0.0s\n",
      "[CV 5/5] END ......C=1, gamma=10, kernel=linear;, score=0.985 total time=   0.0s\n",
      "[CV 1/5] END ..........C=1, gamma=1, kernel=rbf;, score=0.623 total time=   0.0s\n",
      "[CV 2/5] END ..........C=1, gamma=1, kernel=rbf;, score=0.632 total time=   0.0s\n",
      "[CV 3/5] END ..........C=1, gamma=1, kernel=rbf;, score=0.618 total time=   0.0s\n",
      "[CV 4/5] END ..........C=1, gamma=1, kernel=rbf;, score=0.618 total time=   0.0s\n",
      "[CV 5/5] END ..........C=1, gamma=1, kernel=rbf;, score=0.618 total time=   0.0s\n",
      "[CV 1/5] END .......C=1, gamma=1, kernel=linear;, score=0.957 total time=   0.0s\n",
      "[CV 2/5] END .......C=1, gamma=1, kernel=linear;, score=0.985 total time=   0.0s\n",
      "[CV 3/5] END .......C=1, gamma=1, kernel=linear;, score=0.971 total time=   0.0s\n",
      "[CV 4/5] END .......C=1, gamma=1, kernel=linear;, score=0.971 total time=   0.0s\n",
      "[CV 5/5] END .......C=1, gamma=1, kernel=linear;, score=0.985 total time=   0.0s\n",
      "[CV 1/5] END ........C=1, gamma=0.1, kernel=rbf;, score=0.928 total time=   0.0s\n",
      "[CV 2/5] END ........C=1, gamma=0.1, kernel=rbf;, score=0.941 total time=   0.0s\n",
      "[CV 3/5] END ........C=1, gamma=0.1, kernel=rbf;, score=0.971 total time=   0.0s\n",
      "[CV 4/5] END ........C=1, gamma=0.1, kernel=rbf;, score=0.971 total time=   0.0s\n",
      "[CV 5/5] END ........C=1, gamma=0.1, kernel=rbf;, score=0.971 total time=   0.0s\n",
      "[CV 1/5] END .....C=1, gamma=0.1, kernel=linear;, score=0.957 total time=   0.0s\n",
      "[CV 2/5] END .....C=1, gamma=0.1, kernel=linear;, score=0.985 total time=   0.0s\n",
      "[CV 3/5] END .....C=1, gamma=0.1, kernel=linear;, score=0.971 total time=   0.0s\n",
      "[CV 4/5] END .....C=1, gamma=0.1, kernel=linear;, score=0.971 total time=   0.0s\n",
      "[CV 5/5] END .....C=1, gamma=0.1, kernel=linear;, score=0.985 total time=   0.0s\n",
      "[CV 1/5] END .......C=1, gamma=0.01, kernel=rbf;, score=0.986 total time=   0.0s\n",
      "[CV 2/5] END .......C=1, gamma=0.01, kernel=rbf;, score=0.985 total time=   0.0s\n",
      "[CV 3/5] END .......C=1, gamma=0.01, kernel=rbf;, score=1.000 total time=   0.0s\n",
      "[CV 4/5] END .......C=1, gamma=0.01, kernel=rbf;, score=0.971 total time=   0.0s\n",
      "[CV 5/5] END .......C=1, gamma=0.01, kernel=rbf;, score=0.985 total time=   0.0s\n",
      "[CV 1/5] END ....C=1, gamma=0.01, kernel=linear;, score=0.957 total time=   0.0s\n",
      "[CV 2/5] END ....C=1, gamma=0.01, kernel=linear;, score=0.985 total time=   0.0s\n",
      "[CV 3/5] END ....C=1, gamma=0.01, kernel=linear;, score=0.971 total time=   0.0s\n",
      "[CV 4/5] END ....C=1, gamma=0.01, kernel=linear;, score=0.971 total time=   0.0s\n",
      "[CV 5/5] END ....C=1, gamma=0.01, kernel=linear;, score=0.985 total time=   0.0s\n",
      "[CV 1/5] END ......C=1, gamma=0.001, kernel=rbf;, score=0.913 total time=   0.0s\n",
      "[CV 2/5] END ......C=1, gamma=0.001, kernel=rbf;, score=0.971 total time=   0.0s\n",
      "[CV 3/5] END ......C=1, gamma=0.001, kernel=rbf;, score=0.985 total time=   0.0s\n",
      "[CV 4/5] END ......C=1, gamma=0.001, kernel=rbf;, score=0.985 total time=   0.0s\n",
      "[CV 5/5] END ......C=1, gamma=0.001, kernel=rbf;, score=0.956 total time=   0.0s\n",
      "[CV 1/5] END ...C=1, gamma=0.001, kernel=linear;, score=0.957 total time=   0.0s\n",
      "[CV 2/5] END ...C=1, gamma=0.001, kernel=linear;, score=0.985 total time=   0.0s\n",
      "[CV 3/5] END ...C=1, gamma=0.001, kernel=linear;, score=0.971 total time=   0.0s\n",
      "[CV 4/5] END ...C=1, gamma=0.001, kernel=linear;, score=0.971 total time=   0.0s\n"
     ]
    },
    {
     "name": "stdout",
     "output_type": "stream",
     "text": [
      "[CV 5/5] END ...C=1, gamma=0.001, kernel=linear;, score=0.985 total time=   0.0s\n",
      "[CV 1/5] END .....C=1, gamma=0.0001, kernel=rbf;, score=0.696 total time=   0.0s\n",
      "[CV 2/5] END .....C=1, gamma=0.0001, kernel=rbf;, score=0.676 total time=   0.0s\n",
      "[CV 3/5] END .....C=1, gamma=0.0001, kernel=rbf;, score=0.662 total time=   0.0s\n",
      "[CV 4/5] END .....C=1, gamma=0.0001, kernel=rbf;, score=0.706 total time=   0.0s\n",
      "[CV 5/5] END .....C=1, gamma=0.0001, kernel=rbf;, score=0.691 total time=   0.0s\n",
      "[CV 1/5] END ..C=1, gamma=0.0001, kernel=linear;, score=0.957 total time=   0.0s\n",
      "[CV 2/5] END ..C=1, gamma=0.0001, kernel=linear;, score=0.985 total time=   0.0s\n",
      "[CV 3/5] END ..C=1, gamma=0.0001, kernel=linear;, score=0.971 total time=   0.0s\n",
      "[CV 4/5] END ..C=1, gamma=0.0001, kernel=linear;, score=0.971 total time=   0.0s\n",
      "[CV 5/5] END ..C=1, gamma=0.0001, kernel=linear;, score=0.985 total time=   0.0s\n",
      "[CV 1/5] END .........C=5, gamma=10, kernel=rbf;, score=0.623 total time=   0.0s\n",
      "[CV 2/5] END .........C=5, gamma=10, kernel=rbf;, score=0.632 total time=   0.0s\n",
      "[CV 3/5] END .........C=5, gamma=10, kernel=rbf;, score=0.618 total time=   0.0s\n",
      "[CV 4/5] END .........C=5, gamma=10, kernel=rbf;, score=0.618 total time=   0.0s\n",
      "[CV 5/5] END .........C=5, gamma=10, kernel=rbf;, score=0.618 total time=   0.0s\n",
      "[CV 1/5] END ......C=5, gamma=10, kernel=linear;, score=0.928 total time=   0.0s\n",
      "[CV 2/5] END ......C=5, gamma=10, kernel=linear;, score=0.971 total time=   0.0s\n",
      "[CV 3/5] END ......C=5, gamma=10, kernel=linear;, score=0.941 total time=   0.0s\n",
      "[CV 4/5] END ......C=5, gamma=10, kernel=linear;, score=0.956 total time=   0.0s\n",
      "[CV 5/5] END ......C=5, gamma=10, kernel=linear;, score=0.985 total time=   0.0s\n",
      "[CV 1/5] END ..........C=5, gamma=1, kernel=rbf;, score=0.623 total time=   0.0s\n",
      "[CV 2/5] END ..........C=5, gamma=1, kernel=rbf;, score=0.632 total time=   0.0s\n",
      "[CV 3/5] END ..........C=5, gamma=1, kernel=rbf;, score=0.632 total time=   0.0s\n",
      "[CV 4/5] END ..........C=5, gamma=1, kernel=rbf;, score=0.618 total time=   0.0s\n",
      "[CV 5/5] END ..........C=5, gamma=1, kernel=rbf;, score=0.618 total time=   0.0s\n",
      "[CV 1/5] END .......C=5, gamma=1, kernel=linear;, score=0.928 total time=   0.0s\n",
      "[CV 2/5] END .......C=5, gamma=1, kernel=linear;, score=0.971 total time=   0.0s\n",
      "[CV 3/5] END .......C=5, gamma=1, kernel=linear;, score=0.941 total time=   0.0s\n",
      "[CV 4/5] END .......C=5, gamma=1, kernel=linear;, score=0.956 total time=   0.0s\n",
      "[CV 5/5] END .......C=5, gamma=1, kernel=linear;, score=0.985 total time=   0.0s\n",
      "[CV 1/5] END ........C=5, gamma=0.1, kernel=rbf;, score=0.928 total time=   0.0s\n",
      "[CV 2/5] END ........C=5, gamma=0.1, kernel=rbf;, score=0.956 total time=   0.0s\n",
      "[CV 3/5] END ........C=5, gamma=0.1, kernel=rbf;, score=0.956 total time=   0.0s\n",
      "[CV 4/5] END ........C=5, gamma=0.1, kernel=rbf;, score=0.985 total time=   0.0s\n",
      "[CV 5/5] END ........C=5, gamma=0.1, kernel=rbf;, score=0.985 total time=   0.0s\n",
      "[CV 1/5] END .....C=5, gamma=0.1, kernel=linear;, score=0.928 total time=   0.0s\n",
      "[CV 2/5] END .....C=5, gamma=0.1, kernel=linear;, score=0.971 total time=   0.0s\n",
      "[CV 3/5] END .....C=5, gamma=0.1, kernel=linear;, score=0.941 total time=   0.0s\n",
      "[CV 4/5] END .....C=5, gamma=0.1, kernel=linear;, score=0.956 total time=   0.0s\n",
      "[CV 5/5] END .....C=5, gamma=0.1, kernel=linear;, score=0.985 total time=   0.0s\n",
      "[CV 1/5] END .......C=5, gamma=0.01, kernel=rbf;, score=0.971 total time=   0.0s\n",
      "[CV 2/5] END .......C=5, gamma=0.01, kernel=rbf;, score=0.971 total time=   0.0s\n",
      "[CV 3/5] END .......C=5, gamma=0.01, kernel=rbf;, score=1.000 total time=   0.0s\n",
      "[CV 4/5] END .......C=5, gamma=0.01, kernel=rbf;, score=0.971 total time=   0.0s\n",
      "[CV 5/5] END .......C=5, gamma=0.01, kernel=rbf;, score=0.985 total time=   0.0s\n",
      "[CV 1/5] END ....C=5, gamma=0.01, kernel=linear;, score=0.928 total time=   0.0s\n",
      "[CV 2/5] END ....C=5, gamma=0.01, kernel=linear;, score=0.971 total time=   0.0s\n",
      "[CV 3/5] END ....C=5, gamma=0.01, kernel=linear;, score=0.941 total time=   0.0s\n",
      "[CV 4/5] END ....C=5, gamma=0.01, kernel=linear;, score=0.956 total time=   0.0s\n",
      "[CV 5/5] END ....C=5, gamma=0.01, kernel=linear;, score=0.985 total time=   0.0s\n",
      "[CV 1/5] END ......C=5, gamma=0.001, kernel=rbf;, score=0.971 total time=   0.0s\n",
      "[CV 2/5] END ......C=5, gamma=0.001, kernel=rbf;, score=0.971 total time=   0.0s\n",
      "[CV 3/5] END ......C=5, gamma=0.001, kernel=rbf;, score=1.000 total time=   0.0s\n",
      "[CV 4/5] END ......C=5, gamma=0.001, kernel=rbf;, score=0.971 total time=   0.0s\n",
      "[CV 5/5] END ......C=5, gamma=0.001, kernel=rbf;, score=0.971 total time=   0.0s\n",
      "[CV 1/5] END ...C=5, gamma=0.001, kernel=linear;, score=0.928 total time=   0.0s\n",
      "[CV 2/5] END ...C=5, gamma=0.001, kernel=linear;, score=0.971 total time=   0.0s\n",
      "[CV 3/5] END ...C=5, gamma=0.001, kernel=linear;, score=0.941 total time=   0.0s\n",
      "[CV 4/5] END ...C=5, gamma=0.001, kernel=linear;, score=0.956 total time=   0.0s\n",
      "[CV 5/5] END ...C=5, gamma=0.001, kernel=linear;, score=0.985 total time=   0.0s\n",
      "[CV 1/5] END .....C=5, gamma=0.0001, kernel=rbf;, score=0.884 total time=   0.0s\n",
      "[CV 2/5] END .....C=5, gamma=0.0001, kernel=rbf;, score=0.941 total time=   0.0s\n",
      "[CV 3/5] END .....C=5, gamma=0.0001, kernel=rbf;, score=0.956 total time=   0.0s\n",
      "[CV 4/5] END .....C=5, gamma=0.0001, kernel=rbf;, score=0.941 total time=   0.0s\n",
      "[CV 5/5] END .....C=5, gamma=0.0001, kernel=rbf;, score=0.956 total time=   0.0s\n",
      "[CV 1/5] END ..C=5, gamma=0.0001, kernel=linear;, score=0.928 total time=   0.0s\n",
      "[CV 2/5] END ..C=5, gamma=0.0001, kernel=linear;, score=0.971 total time=   0.0s\n",
      "[CV 3/5] END ..C=5, gamma=0.0001, kernel=linear;, score=0.941 total time=   0.0s\n",
      "[CV 4/5] END ..C=5, gamma=0.0001, kernel=linear;, score=0.956 total time=   0.0s\n",
      "[CV 5/5] END ..C=5, gamma=0.0001, kernel=linear;, score=0.985 total time=   0.0s\n",
      "[CV 1/5] END ........C=10, gamma=10, kernel=rbf;, score=0.623 total time=   0.0s\n",
      "[CV 2/5] END ........C=10, gamma=10, kernel=rbf;, score=0.632 total time=   0.0s\n",
      "[CV 3/5] END ........C=10, gamma=10, kernel=rbf;, score=0.618 total time=   0.0s\n",
      "[CV 4/5] END ........C=10, gamma=10, kernel=rbf;, score=0.618 total time=   0.0s\n",
      "[CV 5/5] END ........C=10, gamma=10, kernel=rbf;, score=0.618 total time=   0.0s\n",
      "[CV 1/5] END .....C=10, gamma=10, kernel=linear;, score=0.942 total time=   0.0s\n",
      "[CV 2/5] END .....C=10, gamma=10, kernel=linear;, score=0.971 total time=   0.0s\n",
      "[CV 3/5] END .....C=10, gamma=10, kernel=linear;, score=0.956 total time=   0.0s\n",
      "[CV 4/5] END .....C=10, gamma=10, kernel=linear;, score=0.956 total time=   0.0s\n",
      "[CV 5/5] END .....C=10, gamma=10, kernel=linear;, score=0.985 total time=   0.0s\n",
      "[CV 1/5] END .........C=10, gamma=1, kernel=rbf;, score=0.623 total time=   0.0s\n",
      "[CV 2/5] END .........C=10, gamma=1, kernel=rbf;, score=0.632 total time=   0.0s\n",
      "[CV 3/5] END .........C=10, gamma=1, kernel=rbf;, score=0.632 total time=   0.0s\n",
      "[CV 4/5] END .........C=10, gamma=1, kernel=rbf;, score=0.618 total time=   0.0s\n",
      "[CV 5/5] END .........C=10, gamma=1, kernel=rbf;, score=0.618 total time=   0.0s\n",
      "[CV 1/5] END ......C=10, gamma=1, kernel=linear;, score=0.942 total time=   0.0s\n",
      "[CV 2/5] END ......C=10, gamma=1, kernel=linear;, score=0.971 total time=   0.0s\n",
      "[CV 3/5] END ......C=10, gamma=1, kernel=linear;, score=0.956 total time=   0.0s\n",
      "[CV 4/5] END ......C=10, gamma=1, kernel=linear;, score=0.956 total time=   0.0s\n",
      "[CV 5/5] END ......C=10, gamma=1, kernel=linear;, score=0.985 total time=   0.0s\n",
      "[CV 1/5] END .......C=10, gamma=0.1, kernel=rbf;, score=0.928 total time=   0.0s\n",
      "[CV 2/5] END .......C=10, gamma=0.1, kernel=rbf;, score=0.956 total time=   0.0s\n",
      "[CV 3/5] END .......C=10, gamma=0.1, kernel=rbf;, score=0.956 total time=   0.0s\n",
      "[CV 4/5] END .......C=10, gamma=0.1, kernel=rbf;, score=0.971 total time=   0.0s\n",
      "[CV 5/5] END .......C=10, gamma=0.1, kernel=rbf;, score=0.985 total time=   0.0s\n",
      "[CV 1/5] END ....C=10, gamma=0.1, kernel=linear;, score=0.942 total time=   0.0s\n",
      "[CV 2/5] END ....C=10, gamma=0.1, kernel=linear;, score=0.971 total time=   0.0s\n",
      "[CV 3/5] END ....C=10, gamma=0.1, kernel=linear;, score=0.956 total time=   0.0s\n",
      "[CV 4/5] END ....C=10, gamma=0.1, kernel=linear;, score=0.956 total time=   0.0s\n",
      "[CV 5/5] END ....C=10, gamma=0.1, kernel=linear;, score=0.985 total time=   0.0s\n",
      "[CV 1/5] END ......C=10, gamma=0.01, kernel=rbf;, score=0.957 total time=   0.0s\n",
      "[CV 2/5] END ......C=10, gamma=0.01, kernel=rbf;, score=0.985 total time=   0.0s\n",
      "[CV 3/5] END ......C=10, gamma=0.01, kernel=rbf;, score=1.000 total time=   0.0s\n",
      "[CV 4/5] END ......C=10, gamma=0.01, kernel=rbf;, score=0.971 total time=   0.0s\n",
      "[CV 5/5] END ......C=10, gamma=0.01, kernel=rbf;, score=0.985 total time=   0.0s\n",
      "[CV 1/5] END ...C=10, gamma=0.01, kernel=linear;, score=0.942 total time=   0.0s\n",
      "[CV 2/5] END ...C=10, gamma=0.01, kernel=linear;, score=0.971 total time=   0.0s\n",
      "[CV 3/5] END ...C=10, gamma=0.01, kernel=linear;, score=0.956 total time=   0.0s\n",
      "[CV 4/5] END ...C=10, gamma=0.01, kernel=linear;, score=0.956 total time=   0.0s\n",
      "[CV 5/5] END ...C=10, gamma=0.01, kernel=linear;, score=0.985 total time=   0.0s\n",
      "[CV 1/5] END .....C=10, gamma=0.001, kernel=rbf;, score=0.971 total time=   0.0s\n",
      "[CV 2/5] END .....C=10, gamma=0.001, kernel=rbf;, score=0.985 total time=   0.0s\n",
      "[CV 3/5] END .....C=10, gamma=0.001, kernel=rbf;, score=1.000 total time=   0.0s\n",
      "[CV 4/5] END .....C=10, gamma=0.001, kernel=rbf;, score=0.971 total time=   0.0s\n",
      "[CV 5/5] END .....C=10, gamma=0.001, kernel=rbf;, score=0.985 total time=   0.0s\n",
      "[CV 1/5] END ..C=10, gamma=0.001, kernel=linear;, score=0.942 total time=   0.0s\n",
      "[CV 2/5] END ..C=10, gamma=0.001, kernel=linear;, score=0.971 total time=   0.0s\n",
      "[CV 3/5] END ..C=10, gamma=0.001, kernel=linear;, score=0.956 total time=   0.0s\n",
      "[CV 4/5] END ..C=10, gamma=0.001, kernel=linear;, score=0.956 total time=   0.0s\n",
      "[CV 5/5] END ..C=10, gamma=0.001, kernel=linear;, score=0.985 total time=   0.0s\n",
      "[CV 1/5] END ....C=10, gamma=0.0001, kernel=rbf;, score=0.913 total time=   0.0s\n",
      "[CV 2/5] END ....C=10, gamma=0.0001, kernel=rbf;, score=0.971 total time=   0.0s\n",
      "[CV 3/5] END ....C=10, gamma=0.0001, kernel=rbf;, score=0.985 total time=   0.0s\n",
      "[CV 4/5] END ....C=10, gamma=0.0001, kernel=rbf;, score=0.971 total time=   0.0s\n",
      "[CV 5/5] END ....C=10, gamma=0.0001, kernel=rbf;, score=0.956 total time=   0.0s\n",
      "[CV 1/5] END .C=10, gamma=0.0001, kernel=linear;, score=0.942 total time=   0.0s\n",
      "[CV 2/5] END .C=10, gamma=0.0001, kernel=linear;, score=0.971 total time=   0.0s\n"
     ]
    },
    {
     "name": "stdout",
     "output_type": "stream",
     "text": [
      "[CV 3/5] END .C=10, gamma=0.0001, kernel=linear;, score=0.956 total time=   0.0s\n",
      "[CV 4/5] END .C=10, gamma=0.0001, kernel=linear;, score=0.956 total time=   0.0s\n",
      "[CV 5/5] END .C=10, gamma=0.0001, kernel=linear;, score=0.985 total time=   0.0s\n",
      "[CV 1/5] END ........C=50, gamma=10, kernel=rbf;, score=0.623 total time=   0.0s\n",
      "[CV 2/5] END ........C=50, gamma=10, kernel=rbf;, score=0.632 total time=   0.0s\n",
      "[CV 3/5] END ........C=50, gamma=10, kernel=rbf;, score=0.618 total time=   0.0s\n",
      "[CV 4/5] END ........C=50, gamma=10, kernel=rbf;, score=0.618 total time=   0.0s\n",
      "[CV 5/5] END ........C=50, gamma=10, kernel=rbf;, score=0.618 total time=   0.0s\n",
      "[CV 1/5] END .....C=50, gamma=10, kernel=linear;, score=0.942 total time=   0.0s\n",
      "[CV 2/5] END .....C=50, gamma=10, kernel=linear;, score=0.971 total time=   0.0s\n",
      "[CV 3/5] END .....C=50, gamma=10, kernel=linear;, score=0.971 total time=   0.0s\n",
      "[CV 4/5] END .....C=50, gamma=10, kernel=linear;, score=0.971 total time=   0.0s\n",
      "[CV 5/5] END .....C=50, gamma=10, kernel=linear;, score=0.985 total time=   0.0s\n",
      "[CV 1/5] END .........C=50, gamma=1, kernel=rbf;, score=0.623 total time=   0.0s\n",
      "[CV 2/5] END .........C=50, gamma=1, kernel=rbf;, score=0.632 total time=   0.0s\n",
      "[CV 3/5] END .........C=50, gamma=1, kernel=rbf;, score=0.632 total time=   0.0s\n",
      "[CV 4/5] END .........C=50, gamma=1, kernel=rbf;, score=0.618 total time=   0.0s\n",
      "[CV 5/5] END .........C=50, gamma=1, kernel=rbf;, score=0.618 total time=   0.0s\n",
      "[CV 1/5] END ......C=50, gamma=1, kernel=linear;, score=0.942 total time=   0.0s\n",
      "[CV 2/5] END ......C=50, gamma=1, kernel=linear;, score=0.971 total time=   0.0s\n",
      "[CV 3/5] END ......C=50, gamma=1, kernel=linear;, score=0.971 total time=   0.0s\n",
      "[CV 4/5] END ......C=50, gamma=1, kernel=linear;, score=0.971 total time=   0.0s\n",
      "[CV 5/5] END ......C=50, gamma=1, kernel=linear;, score=0.985 total time=   0.0s\n",
      "[CV 1/5] END .......C=50, gamma=0.1, kernel=rbf;, score=0.928 total time=   0.0s\n",
      "[CV 2/5] END .......C=50, gamma=0.1, kernel=rbf;, score=0.956 total time=   0.0s\n",
      "[CV 3/5] END .......C=50, gamma=0.1, kernel=rbf;, score=0.956 total time=   0.0s\n",
      "[CV 4/5] END .......C=50, gamma=0.1, kernel=rbf;, score=0.971 total time=   0.0s\n",
      "[CV 5/5] END .......C=50, gamma=0.1, kernel=rbf;, score=0.985 total time=   0.0s\n",
      "[CV 1/5] END ....C=50, gamma=0.1, kernel=linear;, score=0.942 total time=   0.0s\n",
      "[CV 2/5] END ....C=50, gamma=0.1, kernel=linear;, score=0.971 total time=   0.0s\n",
      "[CV 3/5] END ....C=50, gamma=0.1, kernel=linear;, score=0.971 total time=   0.0s\n",
      "[CV 4/5] END ....C=50, gamma=0.1, kernel=linear;, score=0.971 total time=   0.0s\n",
      "[CV 5/5] END ....C=50, gamma=0.1, kernel=linear;, score=0.985 total time=   0.0s\n",
      "[CV 1/5] END ......C=50, gamma=0.01, kernel=rbf;, score=0.942 total time=   0.0s\n",
      "[CV 2/5] END ......C=50, gamma=0.01, kernel=rbf;, score=0.985 total time=   0.0s\n",
      "[CV 3/5] END ......C=50, gamma=0.01, kernel=rbf;, score=0.956 total time=   0.0s\n",
      "[CV 4/5] END ......C=50, gamma=0.01, kernel=rbf;, score=0.971 total time=   0.0s\n",
      "[CV 5/5] END ......C=50, gamma=0.01, kernel=rbf;, score=0.985 total time=   0.0s\n",
      "[CV 1/5] END ...C=50, gamma=0.01, kernel=linear;, score=0.942 total time=   0.0s\n",
      "[CV 2/5] END ...C=50, gamma=0.01, kernel=linear;, score=0.971 total time=   0.0s\n",
      "[CV 3/5] END ...C=50, gamma=0.01, kernel=linear;, score=0.971 total time=   0.0s\n",
      "[CV 4/5] END ...C=50, gamma=0.01, kernel=linear;, score=0.971 total time=   0.0s\n",
      "[CV 5/5] END ...C=50, gamma=0.01, kernel=linear;, score=0.985 total time=   0.0s\n",
      "[CV 1/5] END .....C=50, gamma=0.001, kernel=rbf;, score=0.971 total time=   0.0s\n",
      "[CV 2/5] END .....C=50, gamma=0.001, kernel=rbf;, score=0.985 total time=   0.0s\n",
      "[CV 3/5] END .....C=50, gamma=0.001, kernel=rbf;, score=1.000 total time=   0.0s\n",
      "[CV 4/5] END .....C=50, gamma=0.001, kernel=rbf;, score=0.985 total time=   0.0s\n",
      "[CV 5/5] END .....C=50, gamma=0.001, kernel=rbf;, score=0.985 total time=   0.0s\n",
      "[CV 1/5] END ..C=50, gamma=0.001, kernel=linear;, score=0.942 total time=   0.0s\n",
      "[CV 2/5] END ..C=50, gamma=0.001, kernel=linear;, score=0.971 total time=   0.0s\n",
      "[CV 3/5] END ..C=50, gamma=0.001, kernel=linear;, score=0.971 total time=   0.0s\n",
      "[CV 4/5] END ..C=50, gamma=0.001, kernel=linear;, score=0.971 total time=   0.0s\n",
      "[CV 5/5] END ..C=50, gamma=0.001, kernel=linear;, score=0.985 total time=   0.0s\n",
      "[CV 1/5] END ....C=50, gamma=0.0001, kernel=rbf;, score=0.971 total time=   0.0s\n",
      "[CV 2/5] END ....C=50, gamma=0.0001, kernel=rbf;, score=0.971 total time=   0.0s\n",
      "[CV 3/5] END ....C=50, gamma=0.0001, kernel=rbf;, score=1.000 total time=   0.0s\n",
      "[CV 4/5] END ....C=50, gamma=0.0001, kernel=rbf;, score=0.971 total time=   0.0s\n",
      "[CV 5/5] END ....C=50, gamma=0.0001, kernel=rbf;, score=0.971 total time=   0.0s\n",
      "[CV 1/5] END .C=50, gamma=0.0001, kernel=linear;, score=0.942 total time=   0.0s\n",
      "[CV 2/5] END .C=50, gamma=0.0001, kernel=linear;, score=0.971 total time=   0.0s\n",
      "[CV 3/5] END .C=50, gamma=0.0001, kernel=linear;, score=0.971 total time=   0.0s\n",
      "[CV 4/5] END .C=50, gamma=0.0001, kernel=linear;, score=0.971 total time=   0.0s\n",
      "[CV 5/5] END .C=50, gamma=0.0001, kernel=linear;, score=0.985 total time=   0.0s\n",
      "[CV 1/5] END .......C=100, gamma=10, kernel=rbf;, score=0.623 total time=   0.0s\n",
      "[CV 2/5] END .......C=100, gamma=10, kernel=rbf;, score=0.632 total time=   0.0s\n",
      "[CV 3/5] END .......C=100, gamma=10, kernel=rbf;, score=0.618 total time=   0.0s\n",
      "[CV 4/5] END .......C=100, gamma=10, kernel=rbf;, score=0.618 total time=   0.0s\n",
      "[CV 5/5] END .......C=100, gamma=10, kernel=rbf;, score=0.618 total time=   0.0s\n",
      "[CV 1/5] END ....C=100, gamma=10, kernel=linear;, score=0.942 total time=   0.0s\n",
      "[CV 2/5] END ....C=100, gamma=10, kernel=linear;, score=0.971 total time=   0.0s\n",
      "[CV 3/5] END ....C=100, gamma=10, kernel=linear;, score=0.971 total time=   0.0s\n",
      "[CV 4/5] END ....C=100, gamma=10, kernel=linear;, score=0.971 total time=   0.0s\n",
      "[CV 5/5] END ....C=100, gamma=10, kernel=linear;, score=0.985 total time=   0.0s\n",
      "[CV 1/5] END ........C=100, gamma=1, kernel=rbf;, score=0.623 total time=   0.0s\n",
      "[CV 2/5] END ........C=100, gamma=1, kernel=rbf;, score=0.632 total time=   0.0s\n",
      "[CV 3/5] END ........C=100, gamma=1, kernel=rbf;, score=0.632 total time=   0.0s\n",
      "[CV 4/5] END ........C=100, gamma=1, kernel=rbf;, score=0.618 total time=   0.0s\n",
      "[CV 5/5] END ........C=100, gamma=1, kernel=rbf;, score=0.618 total time=   0.0s\n",
      "[CV 1/5] END .....C=100, gamma=1, kernel=linear;, score=0.942 total time=   0.0s\n",
      "[CV 2/5] END .....C=100, gamma=1, kernel=linear;, score=0.971 total time=   0.0s\n",
      "[CV 3/5] END .....C=100, gamma=1, kernel=linear;, score=0.971 total time=   0.0s\n",
      "[CV 4/5] END .....C=100, gamma=1, kernel=linear;, score=0.971 total time=   0.0s\n",
      "[CV 5/5] END .....C=100, gamma=1, kernel=linear;, score=0.985 total time=   0.0s\n",
      "[CV 1/5] END ......C=100, gamma=0.1, kernel=rbf;, score=0.928 total time=   0.0s\n",
      "[CV 2/5] END ......C=100, gamma=0.1, kernel=rbf;, score=0.956 total time=   0.0s\n",
      "[CV 3/5] END ......C=100, gamma=0.1, kernel=rbf;, score=0.956 total time=   0.0s\n",
      "[CV 4/5] END ......C=100, gamma=0.1, kernel=rbf;, score=0.971 total time=   0.0s\n",
      "[CV 5/5] END ......C=100, gamma=0.1, kernel=rbf;, score=0.985 total time=   0.0s\n",
      "[CV 1/5] END ...C=100, gamma=0.1, kernel=linear;, score=0.942 total time=   0.0s\n",
      "[CV 2/5] END ...C=100, gamma=0.1, kernel=linear;, score=0.971 total time=   0.0s\n",
      "[CV 3/5] END ...C=100, gamma=0.1, kernel=linear;, score=0.971 total time=   0.0s\n",
      "[CV 4/5] END ...C=100, gamma=0.1, kernel=linear;, score=0.971 total time=   0.0s\n",
      "[CV 5/5] END ...C=100, gamma=0.1, kernel=linear;, score=0.985 total time=   0.0s\n",
      "[CV 1/5] END .....C=100, gamma=0.01, kernel=rbf;, score=0.971 total time=   0.0s\n",
      "[CV 2/5] END .....C=100, gamma=0.01, kernel=rbf;, score=0.985 total time=   0.0s\n",
      "[CV 3/5] END .....C=100, gamma=0.01, kernel=rbf;, score=0.956 total time=   0.0s\n",
      "[CV 4/5] END .....C=100, gamma=0.01, kernel=rbf;, score=0.956 total time=   0.0s\n",
      "[CV 5/5] END .....C=100, gamma=0.01, kernel=rbf;, score=0.985 total time=   0.0s\n",
      "[CV 1/5] END ..C=100, gamma=0.01, kernel=linear;, score=0.942 total time=   0.0s\n",
      "[CV 2/5] END ..C=100, gamma=0.01, kernel=linear;, score=0.971 total time=   0.0s\n",
      "[CV 3/5] END ..C=100, gamma=0.01, kernel=linear;, score=0.971 total time=   0.0s\n",
      "[CV 4/5] END ..C=100, gamma=0.01, kernel=linear;, score=0.971 total time=   0.0s\n",
      "[CV 5/5] END ..C=100, gamma=0.01, kernel=linear;, score=0.985 total time=   0.0s\n",
      "[CV 1/5] END ....C=100, gamma=0.001, kernel=rbf;, score=0.971 total time=   0.0s\n",
      "[CV 2/5] END ....C=100, gamma=0.001, kernel=rbf;, score=0.985 total time=   0.0s\n",
      "[CV 3/5] END ....C=100, gamma=0.001, kernel=rbf;, score=0.985 total time=   0.0s\n",
      "[CV 4/5] END ....C=100, gamma=0.001, kernel=rbf;, score=0.985 total time=   0.0s\n",
      "[CV 5/5] END ....C=100, gamma=0.001, kernel=rbf;, score=0.985 total time=   0.0s\n",
      "[CV 1/5] END .C=100, gamma=0.001, kernel=linear;, score=0.942 total time=   0.0s\n",
      "[CV 2/5] END .C=100, gamma=0.001, kernel=linear;, score=0.971 total time=   0.0s\n",
      "[CV 3/5] END .C=100, gamma=0.001, kernel=linear;, score=0.971 total time=   0.0s\n",
      "[CV 4/5] END .C=100, gamma=0.001, kernel=linear;, score=0.971 total time=   0.0s\n",
      "[CV 5/5] END .C=100, gamma=0.001, kernel=linear;, score=0.985 total time=   0.0s\n",
      "[CV 1/5] END ...C=100, gamma=0.0001, kernel=rbf;, score=0.971 total time=   0.0s\n",
      "[CV 2/5] END ...C=100, gamma=0.0001, kernel=rbf;, score=0.985 total time=   0.0s\n",
      "[CV 3/5] END ...C=100, gamma=0.0001, kernel=rbf;, score=1.000 total time=   0.0s\n",
      "[CV 4/5] END ...C=100, gamma=0.0001, kernel=rbf;, score=0.985 total time=   0.0s\n",
      "[CV 5/5] END ...C=100, gamma=0.0001, kernel=rbf;, score=0.985 total time=   0.0s\n",
      "[CV 1/5] END C=100, gamma=0.0001, kernel=linear;, score=0.942 total time=   0.0s\n",
      "[CV 2/5] END C=100, gamma=0.0001, kernel=linear;, score=0.971 total time=   0.0s\n",
      "[CV 3/5] END C=100, gamma=0.0001, kernel=linear;, score=0.971 total time=   0.0s\n",
      "[CV 4/5] END C=100, gamma=0.0001, kernel=linear;, score=0.971 total time=   0.0s\n",
      "[CV 5/5] END C=100, gamma=0.0001, kernel=linear;, score=0.985 total time=   0.0s\n",
      "[CV 1/5] END ......C=1000, gamma=10, kernel=rbf;, score=0.623 total time=   0.0s\n",
      "[CV 2/5] END ......C=1000, gamma=10, kernel=rbf;, score=0.632 total time=   0.0s\n",
      "[CV 3/5] END ......C=1000, gamma=10, kernel=rbf;, score=0.618 total time=   0.0s\n",
      "[CV 4/5] END ......C=1000, gamma=10, kernel=rbf;, score=0.618 total time=   0.0s\n"
     ]
    },
    {
     "name": "stdout",
     "output_type": "stream",
     "text": [
      "[CV 5/5] END ......C=1000, gamma=10, kernel=rbf;, score=0.618 total time=   0.0s\n",
      "[CV 1/5] END ...C=1000, gamma=10, kernel=linear;, score=0.942 total time=   0.0s\n",
      "[CV 2/5] END ...C=1000, gamma=10, kernel=linear;, score=0.971 total time=   0.0s\n",
      "[CV 3/5] END ...C=1000, gamma=10, kernel=linear;, score=0.971 total time=   0.0s\n",
      "[CV 4/5] END ...C=1000, gamma=10, kernel=linear;, score=0.971 total time=   0.0s\n",
      "[CV 5/5] END ...C=1000, gamma=10, kernel=linear;, score=0.985 total time=   0.0s\n",
      "[CV 1/5] END .......C=1000, gamma=1, kernel=rbf;, score=0.623 total time=   0.0s\n",
      "[CV 2/5] END .......C=1000, gamma=1, kernel=rbf;, score=0.632 total time=   0.0s\n",
      "[CV 3/5] END .......C=1000, gamma=1, kernel=rbf;, score=0.632 total time=   0.0s\n",
      "[CV 4/5] END .......C=1000, gamma=1, kernel=rbf;, score=0.618 total time=   0.0s\n",
      "[CV 5/5] END .......C=1000, gamma=1, kernel=rbf;, score=0.618 total time=   0.0s\n",
      "[CV 1/5] END ....C=1000, gamma=1, kernel=linear;, score=0.942 total time=   0.0s\n",
      "[CV 2/5] END ....C=1000, gamma=1, kernel=linear;, score=0.971 total time=   0.0s\n",
      "[CV 3/5] END ....C=1000, gamma=1, kernel=linear;, score=0.971 total time=   0.0s\n",
      "[CV 4/5] END ....C=1000, gamma=1, kernel=linear;, score=0.971 total time=   0.0s\n",
      "[CV 5/5] END ....C=1000, gamma=1, kernel=linear;, score=0.985 total time=   0.0s\n",
      "[CV 1/5] END .....C=1000, gamma=0.1, kernel=rbf;, score=0.928 total time=   0.0s\n",
      "[CV 2/5] END .....C=1000, gamma=0.1, kernel=rbf;, score=0.956 total time=   0.0s\n",
      "[CV 3/5] END .....C=1000, gamma=0.1, kernel=rbf;, score=0.956 total time=   0.0s\n",
      "[CV 4/5] END .....C=1000, gamma=0.1, kernel=rbf;, score=0.971 total time=   0.0s\n",
      "[CV 5/5] END .....C=1000, gamma=0.1, kernel=rbf;, score=0.985 total time=   0.0s\n",
      "[CV 1/5] END ..C=1000, gamma=0.1, kernel=linear;, score=0.942 total time=   0.0s\n",
      "[CV 2/5] END ..C=1000, gamma=0.1, kernel=linear;, score=0.971 total time=   0.0s\n",
      "[CV 3/5] END ..C=1000, gamma=0.1, kernel=linear;, score=0.971 total time=   0.0s\n",
      "[CV 4/5] END ..C=1000, gamma=0.1, kernel=linear;, score=0.971 total time=   0.0s\n",
      "[CV 5/5] END ..C=1000, gamma=0.1, kernel=linear;, score=0.985 total time=   0.0s\n",
      "[CV 1/5] END ....C=1000, gamma=0.01, kernel=rbf;, score=0.957 total time=   0.0s\n",
      "[CV 2/5] END ....C=1000, gamma=0.01, kernel=rbf;, score=0.956 total time=   0.0s\n",
      "[CV 3/5] END ....C=1000, gamma=0.01, kernel=rbf;, score=0.941 total time=   0.0s\n",
      "[CV 4/5] END ....C=1000, gamma=0.01, kernel=rbf;, score=0.941 total time=   0.0s\n",
      "[CV 5/5] END ....C=1000, gamma=0.01, kernel=rbf;, score=0.985 total time=   0.0s\n",
      "[CV 1/5] END .C=1000, gamma=0.01, kernel=linear;, score=0.942 total time=   0.0s\n",
      "[CV 2/5] END .C=1000, gamma=0.01, kernel=linear;, score=0.971 total time=   0.0s\n",
      "[CV 3/5] END .C=1000, gamma=0.01, kernel=linear;, score=0.971 total time=   0.0s\n",
      "[CV 4/5] END .C=1000, gamma=0.01, kernel=linear;, score=0.971 total time=   0.0s\n",
      "[CV 5/5] END .C=1000, gamma=0.01, kernel=linear;, score=0.985 total time=   0.0s\n",
      "[CV 1/5] END ...C=1000, gamma=0.001, kernel=rbf;, score=0.957 total time=   0.0s\n",
      "[CV 2/5] END ...C=1000, gamma=0.001, kernel=rbf;, score=0.985 total time=   0.0s\n",
      "[CV 3/5] END ...C=1000, gamma=0.001, kernel=rbf;, score=0.941 total time=   0.0s\n",
      "[CV 4/5] END ...C=1000, gamma=0.001, kernel=rbf;, score=0.985 total time=   0.0s\n",
      "[CV 5/5] END ...C=1000, gamma=0.001, kernel=rbf;, score=0.985 total time=   0.0s\n",
      "[CV 1/5] END C=1000, gamma=0.001, kernel=linear;, score=0.942 total time=   0.0s\n",
      "[CV 2/5] END C=1000, gamma=0.001, kernel=linear;, score=0.971 total time=   0.0s\n",
      "[CV 3/5] END C=1000, gamma=0.001, kernel=linear;, score=0.971 total time=   0.0s\n",
      "[CV 4/5] END C=1000, gamma=0.001, kernel=linear;, score=0.971 total time=   0.0s\n",
      "[CV 5/5] END C=1000, gamma=0.001, kernel=linear;, score=0.985 total time=   0.0s\n",
      "[CV 1/5] END ..C=1000, gamma=0.0001, kernel=rbf;, score=0.971 total time=   0.0s\n",
      "[CV 2/5] END ..C=1000, gamma=0.0001, kernel=rbf;, score=0.985 total time=   0.0s\n",
      "[CV 3/5] END ..C=1000, gamma=0.0001, kernel=rbf;, score=0.985 total time=   0.0s\n",
      "[CV 4/5] END ..C=1000, gamma=0.0001, kernel=rbf;, score=0.985 total time=   0.0s\n",
      "[CV 5/5] END ..C=1000, gamma=0.0001, kernel=rbf;, score=0.985 total time=   0.0s\n",
      "[CV 1/5] END C=1000, gamma=0.0001, kernel=linear;, score=0.942 total time=   0.0s\n",
      "[CV 2/5] END C=1000, gamma=0.0001, kernel=linear;, score=0.971 total time=   0.0s\n",
      "[CV 3/5] END C=1000, gamma=0.0001, kernel=linear;, score=0.971 total time=   0.0s\n",
      "[CV 4/5] END C=1000, gamma=0.0001, kernel=linear;, score=0.971 total time=   0.0s\n",
      "[CV 5/5] END C=1000, gamma=0.0001, kernel=linear;, score=0.985 total time=   0.0s\n"
     ]
    },
    {
     "data": {
      "text/html": [
       "<style>#sk-container-id-3 {color: black;}#sk-container-id-3 pre{padding: 0;}#sk-container-id-3 div.sk-toggleable {background-color: white;}#sk-container-id-3 label.sk-toggleable__label {cursor: pointer;display: block;width: 100%;margin-bottom: 0;padding: 0.3em;box-sizing: border-box;text-align: center;}#sk-container-id-3 label.sk-toggleable__label-arrow:before {content: \"▸\";float: left;margin-right: 0.25em;color: #696969;}#sk-container-id-3 label.sk-toggleable__label-arrow:hover:before {color: black;}#sk-container-id-3 div.sk-estimator:hover label.sk-toggleable__label-arrow:before {color: black;}#sk-container-id-3 div.sk-toggleable__content {max-height: 0;max-width: 0;overflow: hidden;text-align: left;background-color: #f0f8ff;}#sk-container-id-3 div.sk-toggleable__content pre {margin: 0.2em;color: black;border-radius: 0.25em;background-color: #f0f8ff;}#sk-container-id-3 input.sk-toggleable__control:checked~div.sk-toggleable__content {max-height: 200px;max-width: 100%;overflow: auto;}#sk-container-id-3 input.sk-toggleable__control:checked~label.sk-toggleable__label-arrow:before {content: \"▾\";}#sk-container-id-3 div.sk-estimator input.sk-toggleable__control:checked~label.sk-toggleable__label {background-color: #d4ebff;}#sk-container-id-3 div.sk-label input.sk-toggleable__control:checked~label.sk-toggleable__label {background-color: #d4ebff;}#sk-container-id-3 input.sk-hidden--visually {border: 0;clip: rect(1px 1px 1px 1px);clip: rect(1px, 1px, 1px, 1px);height: 1px;margin: -1px;overflow: hidden;padding: 0;position: absolute;width: 1px;}#sk-container-id-3 div.sk-estimator {font-family: monospace;background-color: #f0f8ff;border: 1px dotted black;border-radius: 0.25em;box-sizing: border-box;margin-bottom: 0.5em;}#sk-container-id-3 div.sk-estimator:hover {background-color: #d4ebff;}#sk-container-id-3 div.sk-parallel-item::after {content: \"\";width: 100%;border-bottom: 1px solid gray;flex-grow: 1;}#sk-container-id-3 div.sk-label:hover label.sk-toggleable__label {background-color: #d4ebff;}#sk-container-id-3 div.sk-serial::before {content: \"\";position: absolute;border-left: 1px solid gray;box-sizing: border-box;top: 0;bottom: 0;left: 50%;z-index: 0;}#sk-container-id-3 div.sk-serial {display: flex;flex-direction: column;align-items: center;background-color: white;padding-right: 0.2em;padding-left: 0.2em;position: relative;}#sk-container-id-3 div.sk-item {position: relative;z-index: 1;}#sk-container-id-3 div.sk-parallel {display: flex;align-items: stretch;justify-content: center;background-color: white;position: relative;}#sk-container-id-3 div.sk-item::before, #sk-container-id-3 div.sk-parallel-item::before {content: \"\";position: absolute;border-left: 1px solid gray;box-sizing: border-box;top: 0;bottom: 0;left: 50%;z-index: -1;}#sk-container-id-3 div.sk-parallel-item {display: flex;flex-direction: column;z-index: 1;position: relative;background-color: white;}#sk-container-id-3 div.sk-parallel-item:first-child::after {align-self: flex-end;width: 50%;}#sk-container-id-3 div.sk-parallel-item:last-child::after {align-self: flex-start;width: 50%;}#sk-container-id-3 div.sk-parallel-item:only-child::after {width: 0;}#sk-container-id-3 div.sk-dashed-wrapped {border: 1px dashed gray;margin: 0 0.4em 0.5em 0.4em;box-sizing: border-box;padding-bottom: 0.4em;background-color: white;}#sk-container-id-3 div.sk-label label {font-family: monospace;font-weight: bold;display: inline-block;line-height: 1.2em;}#sk-container-id-3 div.sk-label-container {text-align: center;}#sk-container-id-3 div.sk-container {/* jupyter's `normalize.less` sets `[hidden] { display: none; }` but bootstrap.min.css set `[hidden] { display: none !important; }` so we also need the `!important` here to be able to override the default hidden behavior on the sphinx rendered scikit-learn.org. See: https://github.com/scikit-learn/scikit-learn/issues/21755 */display: inline-block !important;position: relative;}#sk-container-id-3 div.sk-text-repr-fallback {display: none;}</style><div id=\"sk-container-id-3\" class=\"sk-top-container\"><div class=\"sk-text-repr-fallback\"><pre>GridSearchCV(estimator=SVC(),\n",
       "             param_grid={&#x27;C&#x27;: [0.1, 1, 5, 10, 50, 100, 1000],\n",
       "                         &#x27;gamma&#x27;: [10, 1, 0.1, 0.01, 0.001, 0.0001],\n",
       "                         &#x27;kernel&#x27;: [&#x27;rbf&#x27;, &#x27;linear&#x27;]},\n",
       "             verbose=5)</pre><b>In a Jupyter environment, please rerun this cell to show the HTML representation or trust the notebook. <br />On GitHub, the HTML representation is unable to render, please try loading this page with nbviewer.org.</b></div><div class=\"sk-container\" hidden><div class=\"sk-item sk-dashed-wrapped\"><div class=\"sk-label-container\"><div class=\"sk-label sk-toggleable\"><input class=\"sk-toggleable__control sk-hidden--visually\" id=\"sk-estimator-id-5\" type=\"checkbox\" ><label for=\"sk-estimator-id-5\" class=\"sk-toggleable__label sk-toggleable__label-arrow\">GridSearchCV</label><div class=\"sk-toggleable__content\"><pre>GridSearchCV(estimator=SVC(),\n",
       "             param_grid={&#x27;C&#x27;: [0.1, 1, 5, 10, 50, 100, 1000],\n",
       "                         &#x27;gamma&#x27;: [10, 1, 0.1, 0.01, 0.001, 0.0001],\n",
       "                         &#x27;kernel&#x27;: [&#x27;rbf&#x27;, &#x27;linear&#x27;]},\n",
       "             verbose=5)</pre></div></div></div><div class=\"sk-parallel\"><div class=\"sk-parallel-item\"><div class=\"sk-item\"><div class=\"sk-label-container\"><div class=\"sk-label sk-toggleable\"><input class=\"sk-toggleable__control sk-hidden--visually\" id=\"sk-estimator-id-6\" type=\"checkbox\" ><label for=\"sk-estimator-id-6\" class=\"sk-toggleable__label sk-toggleable__label-arrow\">estimator: SVC</label><div class=\"sk-toggleable__content\"><pre>SVC()</pre></div></div></div><div class=\"sk-serial\"><div class=\"sk-item\"><div class=\"sk-estimator sk-toggleable\"><input class=\"sk-toggleable__control sk-hidden--visually\" id=\"sk-estimator-id-7\" type=\"checkbox\" ><label for=\"sk-estimator-id-7\" class=\"sk-toggleable__label sk-toggleable__label-arrow\">SVC</label><div class=\"sk-toggleable__content\"><pre>SVC()</pre></div></div></div></div></div></div></div></div></div></div>"
      ],
      "text/plain": [
       "GridSearchCV(estimator=SVC(),\n",
       "             param_grid={'C': [0.1, 1, 5, 10, 50, 100, 1000],\n",
       "                         'gamma': [10, 1, 0.1, 0.01, 0.001, 0.0001],\n",
       "                         'kernel': ['rbf', 'linear']},\n",
       "             verbose=5)"
      ]
     },
     "execution_count": 29,
     "metadata": {},
     "output_type": "execute_result"
    }
   ],
   "source": [
    "grid.fit(X_train,y_train)"
   ]
  },
  {
   "cell_type": "code",
   "execution_count": 30,
   "id": "4b3d6828",
   "metadata": {},
   "outputs": [
    {
     "data": {
      "text/plain": [
       "{'C': 0.1, 'gamma': 10, 'kernel': 'linear'}"
      ]
     },
     "execution_count": 30,
     "metadata": {},
     "output_type": "execute_result"
    }
   ],
   "source": [
    "grid.best_params_"
   ]
  },
  {
   "cell_type": "code",
   "execution_count": 31,
   "id": "29e29f4f",
   "metadata": {},
   "outputs": [
    {
     "data": {
      "text/html": [
       "<style>#sk-container-id-4 {color: black;}#sk-container-id-4 pre{padding: 0;}#sk-container-id-4 div.sk-toggleable {background-color: white;}#sk-container-id-4 label.sk-toggleable__label {cursor: pointer;display: block;width: 100%;margin-bottom: 0;padding: 0.3em;box-sizing: border-box;text-align: center;}#sk-container-id-4 label.sk-toggleable__label-arrow:before {content: \"▸\";float: left;margin-right: 0.25em;color: #696969;}#sk-container-id-4 label.sk-toggleable__label-arrow:hover:before {color: black;}#sk-container-id-4 div.sk-estimator:hover label.sk-toggleable__label-arrow:before {color: black;}#sk-container-id-4 div.sk-toggleable__content {max-height: 0;max-width: 0;overflow: hidden;text-align: left;background-color: #f0f8ff;}#sk-container-id-4 div.sk-toggleable__content pre {margin: 0.2em;color: black;border-radius: 0.25em;background-color: #f0f8ff;}#sk-container-id-4 input.sk-toggleable__control:checked~div.sk-toggleable__content {max-height: 200px;max-width: 100%;overflow: auto;}#sk-container-id-4 input.sk-toggleable__control:checked~label.sk-toggleable__label-arrow:before {content: \"▾\";}#sk-container-id-4 div.sk-estimator input.sk-toggleable__control:checked~label.sk-toggleable__label {background-color: #d4ebff;}#sk-container-id-4 div.sk-label input.sk-toggleable__control:checked~label.sk-toggleable__label {background-color: #d4ebff;}#sk-container-id-4 input.sk-hidden--visually {border: 0;clip: rect(1px 1px 1px 1px);clip: rect(1px, 1px, 1px, 1px);height: 1px;margin: -1px;overflow: hidden;padding: 0;position: absolute;width: 1px;}#sk-container-id-4 div.sk-estimator {font-family: monospace;background-color: #f0f8ff;border: 1px dotted black;border-radius: 0.25em;box-sizing: border-box;margin-bottom: 0.5em;}#sk-container-id-4 div.sk-estimator:hover {background-color: #d4ebff;}#sk-container-id-4 div.sk-parallel-item::after {content: \"\";width: 100%;border-bottom: 1px solid gray;flex-grow: 1;}#sk-container-id-4 div.sk-label:hover label.sk-toggleable__label {background-color: #d4ebff;}#sk-container-id-4 div.sk-serial::before {content: \"\";position: absolute;border-left: 1px solid gray;box-sizing: border-box;top: 0;bottom: 0;left: 50%;z-index: 0;}#sk-container-id-4 div.sk-serial {display: flex;flex-direction: column;align-items: center;background-color: white;padding-right: 0.2em;padding-left: 0.2em;position: relative;}#sk-container-id-4 div.sk-item {position: relative;z-index: 1;}#sk-container-id-4 div.sk-parallel {display: flex;align-items: stretch;justify-content: center;background-color: white;position: relative;}#sk-container-id-4 div.sk-item::before, #sk-container-id-4 div.sk-parallel-item::before {content: \"\";position: absolute;border-left: 1px solid gray;box-sizing: border-box;top: 0;bottom: 0;left: 50%;z-index: -1;}#sk-container-id-4 div.sk-parallel-item {display: flex;flex-direction: column;z-index: 1;position: relative;background-color: white;}#sk-container-id-4 div.sk-parallel-item:first-child::after {align-self: flex-end;width: 50%;}#sk-container-id-4 div.sk-parallel-item:last-child::after {align-self: flex-start;width: 50%;}#sk-container-id-4 div.sk-parallel-item:only-child::after {width: 0;}#sk-container-id-4 div.sk-dashed-wrapped {border: 1px dashed gray;margin: 0 0.4em 0.5em 0.4em;box-sizing: border-box;padding-bottom: 0.4em;background-color: white;}#sk-container-id-4 div.sk-label label {font-family: monospace;font-weight: bold;display: inline-block;line-height: 1.2em;}#sk-container-id-4 div.sk-label-container {text-align: center;}#sk-container-id-4 div.sk-container {/* jupyter's `normalize.less` sets `[hidden] { display: none; }` but bootstrap.min.css set `[hidden] { display: none !important; }` so we also need the `!important` here to be able to override the default hidden behavior on the sphinx rendered scikit-learn.org. See: https://github.com/scikit-learn/scikit-learn/issues/21755 */display: inline-block !important;position: relative;}#sk-container-id-4 div.sk-text-repr-fallback {display: none;}</style><div id=\"sk-container-id-4\" class=\"sk-top-container\"><div class=\"sk-text-repr-fallback\"><pre>SVC(C=0.1, gamma=10, kernel=&#x27;linear&#x27;)</pre><b>In a Jupyter environment, please rerun this cell to show the HTML representation or trust the notebook. <br />On GitHub, the HTML representation is unable to render, please try loading this page with nbviewer.org.</b></div><div class=\"sk-container\" hidden><div class=\"sk-item\"><div class=\"sk-estimator sk-toggleable\"><input class=\"sk-toggleable__control sk-hidden--visually\" id=\"sk-estimator-id-8\" type=\"checkbox\" checked><label for=\"sk-estimator-id-8\" class=\"sk-toggleable__label sk-toggleable__label-arrow\">SVC</label><div class=\"sk-toggleable__content\"><pre>SVC(C=0.1, gamma=10, kernel=&#x27;linear&#x27;)</pre></div></div></div></div></div>"
      ],
      "text/plain": [
       "SVC(C=0.1, gamma=10, kernel='linear')"
      ]
     },
     "execution_count": 31,
     "metadata": {},
     "output_type": "execute_result"
    }
   ],
   "source": [
    "grid.best_estimator_"
   ]
  },
  {
   "cell_type": "code",
   "execution_count": 32,
   "id": "ba21e168",
   "metadata": {},
   "outputs": [],
   "source": [
    "grid_predictions = grid.predict(X_test)"
   ]
  },
  {
   "cell_type": "code",
   "execution_count": 33,
   "id": "ec07ad6e",
   "metadata": {},
   "outputs": [
    {
     "name": "stdout",
     "output_type": "stream",
     "text": [
      "\n",
      "The classifier accuracy score is 0.98\n",
      "\n"
     ]
    }
   ],
   "source": [
    "classifier_score = grid.score(X_test, y_test)\n",
    "print ('\\nThe classifier accuracy score is {:03.2f}\\n'.format(classifier_score))"
   ]
  },
  {
   "cell_type": "markdown",
   "id": "c6cf5cab",
   "metadata": {},
   "source": [
    "# Evaluation"
   ]
  },
  {
   "cell_type": "code",
   "execution_count": 34,
   "id": "b3b03a55",
   "metadata": {},
   "outputs": [
    {
     "name": "stdout",
     "output_type": "stream",
     "text": [
      "[[145   0]\n",
      " [  5  78]]\n"
     ]
    }
   ],
   "source": [
    "print(confusion_matrix(y_test,grid_predictions))"
   ]
  },
  {
   "cell_type": "code",
   "execution_count": 35,
   "id": "d301f0d7",
   "metadata": {},
   "outputs": [
    {
     "name": "stdout",
     "output_type": "stream",
     "text": [
      "              precision    recall  f1-score   support\n",
      "\n",
      "           0       0.97      1.00      0.98       145\n",
      "           1       1.00      0.94      0.97        83\n",
      "\n",
      "    accuracy                           0.98       228\n",
      "   macro avg       0.98      0.97      0.98       228\n",
      "weighted avg       0.98      0.98      0.98       228\n",
      "\n"
     ]
    }
   ],
   "source": [
    "print(classification_report(y_test,grid_predictions))"
   ]
  },
  {
   "cell_type": "code",
   "execution_count": 36,
   "id": "f3bafe9a",
   "metadata": {},
   "outputs": [
    {
     "name": "stdout",
     "output_type": "stream",
     "text": [
      "[1]\n",
      "The Women have Malignant (Cancerous) - Present in Breast\n"
     ]
    }
   ],
   "source": [
    "input_data=(9.504,12.44,60.34,273.9,0.1024,0.06492,0.02956,0.02076,0.1815,0.06905,0.2773,0.9768,1.909,15.7,0.009606,0.01432,0.01985,0.01421,0.02027,0.002968,10.23,15.66,65.13,314.9,0.1324,0.1148,0.08867,0.06227,0.245,0.07773)\n",
    "input_data_as_numpy_array= np.asarray(input_data)\n",
    "\n",
    "# reshape the numpy array as we are predicting for only on instance\n",
    "input_data_reshaped = input_data_as_numpy_array.reshape(1,-1)\n",
    "\n",
    "prediction = svm.predict(input_data_reshaped)\n",
    "print(prediction)\n",
    "\n",
    "if (prediction[0]== 0):\n",
    "  print('The Women have Benign (Not Cancerous) -Absent in Breast')\n",
    "else:\n",
    "  print('The Women have Malignant (Cancerous) - Present in Breast')\n",
    "\n",
    "\n"
   ]
  },
  {
   "cell_type": "code",
   "execution_count": null,
   "id": "6cf13902",
   "metadata": {},
   "outputs": [],
   "source": []
  },
  {
   "cell_type": "code",
   "execution_count": null,
   "id": "807b3023",
   "metadata": {},
   "outputs": [],
   "source": []
  }
 ],
 "metadata": {
  "kernelspec": {
   "display_name": "Python 3 (ipykernel)",
   "language": "python",
   "name": "python3"
  },
  "language_info": {
   "codemirror_mode": {
    "name": "ipython",
    "version": 3
   },
   "file_extension": ".py",
   "mimetype": "text/x-python",
   "name": "python",
   "nbconvert_exporter": "python",
   "pygments_lexer": "ipython3",
   "version": "3.11.4"
  }
 },
 "nbformat": 4,
 "nbformat_minor": 5
}
